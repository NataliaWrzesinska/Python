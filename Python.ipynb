{
  "nbformat": 4,
  "nbformat_minor": 0,
  "metadata": {
    "colab": {
      "provenance": [],
      "authorship_tag": "ABX9TyPn7NQdpfVlwt5lfxAxWUxM",
      "include_colab_link": true
    },
    "kernelspec": {
      "name": "python3",
      "display_name": "Python 3"
    },
    "language_info": {
      "name": "python"
    }
  },
  "cells": [
    {
      "cell_type": "markdown",
      "metadata": {
        "id": "view-in-github",
        "colab_type": "text"
      },
      "source": [
        "<a href=\"https://colab.research.google.com/github/NataliaWrzesinska/Python/blob/main/Python.ipynb\" target=\"_parent\"><img src=\"https://colab.research.google.com/assets/colab-badge.svg\" alt=\"Open In Colab\"/></a>"
      ]
    },
    {
      "cell_type": "code",
      "execution_count": null,
      "metadata": {
        "colab": {
          "base_uri": "https://localhost:8080/"
        },
        "id": "MrU-BeBwG2W-",
        "outputId": "8409e7e8-ab8e-426d-e62c-58fe857423ba"
      },
      "outputs": [
        {
          "output_type": "stream",
          "name": "stdout",
          "text": [
            "2\n"
          ]
        }
      ],
      "source": [
        "x = 2\n",
        "print(x)"
      ]
    },
    {
      "cell_type": "code",
      "source": [
        "# Komentarz"
      ],
      "metadata": {
        "id": "8lEI2b_uG6xX"
      },
      "execution_count": null,
      "outputs": []
    },
    {
      "cell_type": "code",
      "source": [
        "\"\"\"\n",
        "Komentarz\n",
        "wielolinijkowy\n",
        "\n",
        "\"\"\""
      ],
      "metadata": {
        "colab": {
          "base_uri": "https://localhost:8080/",
          "height": 35
        },
        "id": "NPYfuA_eHepW",
        "outputId": "9c2d715a-42e9-4305-d1bc-33b0b8885cde"
      },
      "execution_count": null,
      "outputs": [
        {
          "output_type": "execute_result",
          "data": {
            "text/plain": [
              "'\\nKomentarz\\nwielolinijkowy\\n\\n'"
            ],
            "application/vnd.google.colaboratory.intrinsic+json": {
              "type": "string"
            }
          },
          "metadata": {},
          "execution_count": 3
        }
      ]
    },
    {
      "cell_type": "code",
      "source": [
        "a = 5\n",
        "type(a)"
      ],
      "metadata": {
        "colab": {
          "base_uri": "https://localhost:8080/"
        },
        "id": "Btuk9XjsH286",
        "outputId": "95f6a8da-4425-4e7a-c1bf-8323631a5a70"
      },
      "execution_count": null,
      "outputs": [
        {
          "output_type": "execute_result",
          "data": {
            "text/plain": [
              "int"
            ]
          },
          "metadata": {},
          "execution_count": 8
        }
      ]
    },
    {
      "cell_type": "code",
      "source": [
        "b = 3.4\n",
        "type(b)"
      ],
      "metadata": {
        "colab": {
          "base_uri": "https://localhost:8080/"
        },
        "id": "a25YSJRxIpet",
        "outputId": "28b9ef4a-23e2-4b45-bde1-597c825350d2"
      },
      "execution_count": null,
      "outputs": [
        {
          "output_type": "execute_result",
          "data": {
            "text/plain": [
              "float"
            ]
          },
          "metadata": {},
          "execution_count": 9
        }
      ]
    },
    {
      "cell_type": "code",
      "source": [
        "imie = 'Natalia'\n",
        "type(imie)"
      ],
      "metadata": {
        "colab": {
          "base_uri": "https://localhost:8080/"
        },
        "id": "8WcqCG9kJNU0",
        "outputId": "4f8595f6-b841-4115-f971-cd1374280557"
      },
      "execution_count": null,
      "outputs": [
        {
          "output_type": "execute_result",
          "data": {
            "text/plain": [
              "str"
            ]
          },
          "metadata": {},
          "execution_count": 10
        }
      ]
    },
    {
      "cell_type": "code",
      "source": [
        "czyDuzy = True\n",
        "type(bool)"
      ],
      "metadata": {
        "colab": {
          "base_uri": "https://localhost:8080/"
        },
        "id": "jNPwvy8qJS9B",
        "outputId": "6a9478ea-e9ab-4886-a719-b537e676bd75"
      },
      "execution_count": null,
      "outputs": [
        {
          "output_type": "execute_result",
          "data": {
            "text/plain": [
              "bool"
            ]
          },
          "metadata": {},
          "execution_count": 2
        }
      ]
    },
    {
      "cell_type": "code",
      "source": [
        "2**3"
      ],
      "metadata": {
        "colab": {
          "base_uri": "https://localhost:8080/"
        },
        "id": "mZdWWb8Qe24R",
        "outputId": "a4372c75-8bc0-4278-89fb-4d96cb66c26e"
      },
      "execution_count": null,
      "outputs": [
        {
          "output_type": "execute_result",
          "data": {
            "text/plain": [
              "8"
            ]
          },
          "metadata": {},
          "execution_count": 3
        }
      ]
    },
    {
      "cell_type": "code",
      "source": [
        "9//4"
      ],
      "metadata": {
        "colab": {
          "base_uri": "https://localhost:8080/"
        },
        "id": "KKKv4BzAjxZ7",
        "outputId": "2bc5c665-ceaa-4d82-f3a1-53db9d73c514"
      },
      "execution_count": null,
      "outputs": [
        {
          "output_type": "execute_result",
          "data": {
            "text/plain": [
              "2"
            ]
          },
          "metadata": {},
          "execution_count": 4
        }
      ]
    },
    {
      "cell_type": "code",
      "source": [
        "VAT = 23\n",
        "cenaNettoJava = 10\n",
        "cenaNettoAjax = 20\n",
        "obliczonyVAT = (1 + VAT/100)\n",
        "cenaBruttoJava = cenaNettoJava * obliczonyVAT\n",
        "print(cenaBruttoJava)"
      ],
      "metadata": {
        "colab": {
          "base_uri": "https://localhost:8080/"
        },
        "id": "uCHg4Xqgj73M",
        "outputId": "e03f589a-9add-4407-9ab1-0af43a9b1392"
      },
      "execution_count": null,
      "outputs": [
        {
          "output_type": "stream",
          "name": "stdout",
          "text": [
            "12.3\n"
          ]
        }
      ]
    },
    {
      "cell_type": "code",
      "source": [
        "cenaBruttoAjax = cenaNettoAjax * obliczonyVAT\n",
        "print(cenaBruttoAjax)"
      ],
      "metadata": {
        "colab": {
          "base_uri": "https://localhost:8080/"
        },
        "id": "6hi5SvcGlKK6",
        "outputId": "c77cd875-297e-442a-b414-d261ad81fe99"
      },
      "execution_count": null,
      "outputs": [
        {
          "output_type": "stream",
          "name": "stdout",
          "text": [
            "24.6\n"
          ]
        }
      ]
    },
    {
      "cell_type": "code",
      "source": [
        "x = 5\n",
        "x = x + 3\n",
        "print(x)"
      ],
      "metadata": {
        "colab": {
          "base_uri": "https://localhost:8080/"
        },
        "id": "juUt9QEUlZso",
        "outputId": "07937690-91f5-4c06-c5f3-972479a96b17"
      },
      "execution_count": null,
      "outputs": [
        {
          "output_type": "stream",
          "name": "stdout",
          "text": [
            "8\n"
          ]
        }
      ]
    },
    {
      "cell_type": "code",
      "source": [
        "imie = 'Natalia'\n",
        "nazwisko = 'Wrzesinska'\n",
        "imieInazwisko = imie + ' ' + nazwisko\n",
        "print(imieInazwisko)"
      ],
      "metadata": {
        "colab": {
          "base_uri": "https://localhost:8080/"
        },
        "id": "swtn-CaerK-I",
        "outputId": "665f90b0-51a3-4888-d815-3d0e10d0433b"
      },
      "execution_count": null,
      "outputs": [
        {
          "output_type": "stream",
          "name": "stdout",
          "text": [
            "Natalia Wrzesinska\n"
          ]
        }
      ]
    },
    {
      "cell_type": "code",
      "source": [
        "dlugiKomentarz = \"\"\"Nanan\n",
        "nanaaaa\n",
        "loa \"\"\"\n",
        "print(dlugiKomentarz)"
      ],
      "metadata": {
        "colab": {
          "base_uri": "https://localhost:8080/"
        },
        "id": "3qBg_RFDsFlK",
        "outputId": "58ff122a-bce4-4060-9260-61bf7588bd93"
      },
      "execution_count": null,
      "outputs": [
        {
          "output_type": "stream",
          "name": "stdout",
          "text": [
            "Nanan\n",
            "nanaaaa\n",
            "loa \n"
          ]
        }
      ]
    },
    {
      "cell_type": "code",
      "source": [
        "imie = 'Emil'\n",
        "print(imie[-1])"
      ],
      "metadata": {
        "colab": {
          "base_uri": "https://localhost:8080/"
        },
        "id": "7UHvdlaGsbsV",
        "outputId": "155cf87d-c218-41a2-a975-b2d3b39b4d82"
      },
      "execution_count": null,
      "outputs": [
        {
          "output_type": "stream",
          "name": "stdout",
          "text": [
            "l\n"
          ]
        }
      ]
    },
    {
      "cell_type": "code",
      "source": [
        "print(imie[1:3])"
      ],
      "metadata": {
        "colab": {
          "base_uri": "https://localhost:8080/"
        },
        "id": "rShfodP7sxaK",
        "outputId": "c03a098d-77c0-4cd5-9608-47384b76ee3e"
      },
      "execution_count": null,
      "outputs": [
        {
          "output_type": "stream",
          "name": "stdout",
          "text": [
            "mi\n"
          ]
        }
      ]
    },
    {
      "cell_type": "code",
      "source": [
        "abs(-2)"
      ],
      "metadata": {
        "id": "DSrh1h4BtT-M",
        "colab": {
          "base_uri": "https://localhost:8080/"
        },
        "outputId": "82b2f20e-5f69-41d7-9860-6df4956c7606"
      },
      "execution_count": null,
      "outputs": [
        {
          "output_type": "execute_result",
          "data": {
            "text/plain": [
              "2"
            ]
          },
          "metadata": {},
          "execution_count": 1
        }
      ]
    },
    {
      "cell_type": "code",
      "source": [
        "import math"
      ],
      "metadata": {
        "id": "Lc6YDpLpw31H"
      },
      "execution_count": null,
      "outputs": []
    },
    {
      "cell_type": "code",
      "source": [
        "math.sqrt(4)"
      ],
      "metadata": {
        "colab": {
          "base_uri": "https://localhost:8080/"
        },
        "id": "MA4VfIltxgV1",
        "outputId": "4cbe812a-f40f-4ecb-c26d-c03913e4b98c"
      },
      "execution_count": null,
      "outputs": [
        {
          "output_type": "execute_result",
          "data": {
            "text/plain": [
              "2.0"
            ]
          },
          "metadata": {},
          "execution_count": 3
        }
      ]
    },
    {
      "cell_type": "code",
      "source": [
        "from math import sqrt"
      ],
      "metadata": {
        "id": "6FuwolwTxwQc"
      },
      "execution_count": null,
      "outputs": []
    },
    {
      "cell_type": "code",
      "source": [
        "sqrt(4)"
      ],
      "metadata": {
        "colab": {
          "base_uri": "https://localhost:8080/"
        },
        "id": "YcYlwSauyUfv",
        "outputId": "ec519896-2fea-4f95-d4ca-dea27ad6b3eb"
      },
      "execution_count": null,
      "outputs": [
        {
          "output_type": "execute_result",
          "data": {
            "text/plain": [
              "2.0"
            ]
          },
          "metadata": {},
          "execution_count": 5
        }
      ]
    },
    {
      "cell_type": "code",
      "source": [
        "from math import *"
      ],
      "metadata": {
        "id": "UovbBYatyVzK"
      },
      "execution_count": null,
      "outputs": []
    },
    {
      "cell_type": "code",
      "source": [
        "ceil(4.2)"
      ],
      "metadata": {
        "colab": {
          "base_uri": "https://localhost:8080/"
        },
        "id": "lFSBqXFGzA2q",
        "outputId": "6c738db9-7108-4827-9a6b-fdf80856c41b"
      },
      "execution_count": null,
      "outputs": [
        {
          "output_type": "execute_result",
          "data": {
            "text/plain": [
              "5"
            ]
          },
          "metadata": {},
          "execution_count": 8
        }
      ]
    },
    {
      "cell_type": "code",
      "source": [
        "help(ceil)"
      ],
      "metadata": {
        "colab": {
          "base_uri": "https://localhost:8080/"
        },
        "id": "585ZJ557zHnW",
        "outputId": "0a5d83ac-2d18-463c-87d2-941d4bc15cc6"
      },
      "execution_count": null,
      "outputs": [
        {
          "output_type": "stream",
          "name": "stdout",
          "text": [
            "Help on built-in function ceil in module math:\n",
            "\n",
            "ceil(x, /)\n",
            "    Return the ceiling of x as an Integral.\n",
            "    \n",
            "    This is the smallest integer >= x.\n",
            "\n"
          ]
        }
      ]
    },
    {
      "cell_type": "code",
      "source": [
        "imie = 'natalia'"
      ],
      "metadata": {
        "id": "9KtTBnXpzSIQ"
      },
      "execution_count": null,
      "outputs": []
    },
    {
      "cell_type": "code",
      "source": [
        "print(imie.capitalize())"
      ],
      "metadata": {
        "colab": {
          "base_uri": "https://localhost:8080/"
        },
        "id": "HpQHNIbV0f8w",
        "outputId": "6ce44ca1-8c0f-4821-de57-5e3b1b680c7f"
      },
      "execution_count": null,
      "outputs": [
        {
          "output_type": "stream",
          "name": "stdout",
          "text": [
            "Natalia\n"
          ]
        }
      ]
    },
    {
      "cell_type": "code",
      "source": [
        "imie = 'naTAlia'"
      ],
      "metadata": {
        "id": "BYBJR30n0ld3"
      },
      "execution_count": null,
      "outputs": []
    },
    {
      "cell_type": "code",
      "source": [
        "print(imie.lower())"
      ],
      "metadata": {
        "colab": {
          "base_uri": "https://localhost:8080/"
        },
        "id": "xMSB0sjD0y2T",
        "outputId": "12a648e5-7978-466d-c67b-fa2f8f9a6e7e"
      },
      "execution_count": null,
      "outputs": [
        {
          "output_type": "stream",
          "name": "stdout",
          "text": [
            "natalia\n"
          ]
        }
      ]
    },
    {
      "cell_type": "code",
      "source": [
        "print(imie)"
      ],
      "metadata": {
        "colab": {
          "base_uri": "https://localhost:8080/"
        },
        "id": "jtrYrF_t05o4",
        "outputId": "d811c8fe-8d0b-48d3-a188-dbc4463f3c1e"
      },
      "execution_count": null,
      "outputs": [
        {
          "output_type": "stream",
          "name": "stdout",
          "text": [
            "naTAlia\n"
          ]
        }
      ]
    },
    {
      "cell_type": "code",
      "source": [
        "a = int(input())\n",
        "b = int(input())\n",
        "print('Wynik to:', a + b)\n"
      ],
      "metadata": {
        "colab": {
          "base_uri": "https://localhost:8080/"
        },
        "id": "U4seyISG1FJ4",
        "outputId": "1055eed8-2275-4462-cfc6-1f5a3b845038"
      },
      "execution_count": null,
      "outputs": [
        {
          "output_type": "stream",
          "name": "stdout",
          "text": [
            "4\n",
            "5\n",
            "Wynik to: 9\n"
          ]
        }
      ]
    },
    {
      "cell_type": "code",
      "source": [
        "imie = input(\"Podaj imię:\")\n",
        "wiek = int(input(\"Podaj wiek:\"))\n",
        "kolor = input(\"Podaj swój ulubiony kolor:\")\n",
        "print(\"Hej,\", imie, \"Twój ulubiony kolor to:\", kolor)\n",
        "print(\"Masz\", wiek, \"lat.\")\n",
        "print(\"Za rok będziesz miała\", wiek + 1, \"lat.\")"
      ],
      "metadata": {
        "colab": {
          "base_uri": "https://localhost:8080/"
        },
        "id": "uFZnJ79-A7wN",
        "outputId": "3ee508a6-4352-4d64-b074-57ed20b838f9"
      },
      "execution_count": null,
      "outputs": [
        {
          "output_type": "stream",
          "name": "stdout",
          "text": [
            "Podaj imię:Nati\n",
            "Podaj wiek:29\n",
            "Podaj swój ulubiony kolor:różowy\n",
            "Hej, Nati Twój ulubiony kolor to: różowy\n",
            "Masz 29 lat.\n",
            "Za rok będziesz miała 30 lat.\n"
          ]
        }
      ]
    },
    {
      "cell_type": "code",
      "source": [
        "5 > 4"
      ],
      "metadata": {
        "colab": {
          "base_uri": "https://localhost:8080/"
        },
        "id": "Ra7gNf2hDvOG",
        "outputId": "6d2dac81-37c8-4ee2-eaef-7fd156522981"
      },
      "execution_count": null,
      "outputs": [
        {
          "output_type": "execute_result",
          "data": {
            "text/plain": [
              "True"
            ]
          },
          "metadata": {},
          "execution_count": 11
        }
      ]
    },
    {
      "cell_type": "code",
      "source": [
        "3 > 3"
      ],
      "metadata": {
        "colab": {
          "base_uri": "https://localhost:8080/"
        },
        "id": "jTEsJXKjGTgN",
        "outputId": "78362197-daf6-469f-badb-34f91e5e8a36"
      },
      "execution_count": null,
      "outputs": [
        {
          "output_type": "execute_result",
          "data": {
            "text/plain": [
              "False"
            ]
          },
          "metadata": {},
          "execution_count": 13
        }
      ]
    },
    {
      "cell_type": "code",
      "source": [
        "5 >= -6"
      ],
      "metadata": {
        "colab": {
          "base_uri": "https://localhost:8080/"
        },
        "id": "8I_KH3_uGVE0",
        "outputId": "8fbba667-dd56-4c32-9161-17eb1d5e1ea2"
      },
      "execution_count": null,
      "outputs": [
        {
          "output_type": "execute_result",
          "data": {
            "text/plain": [
              "True"
            ]
          },
          "metadata": {},
          "execution_count": 14
        }
      ]
    },
    {
      "cell_type": "code",
      "source": [
        "a = 5"
      ],
      "metadata": {
        "id": "PPpxqVBhGa9w"
      },
      "execution_count": null,
      "outputs": []
    },
    {
      "cell_type": "code",
      "source": [
        "a == 5"
      ],
      "metadata": {
        "colab": {
          "base_uri": "https://localhost:8080/"
        },
        "id": "13Gm6MOBGnA4",
        "outputId": "0c825cbf-3299-42b8-977e-63a4c432d34b"
      },
      "execution_count": null,
      "outputs": [
        {
          "output_type": "execute_result",
          "data": {
            "text/plain": [
              "True"
            ]
          },
          "metadata": {},
          "execution_count": 16
        }
      ]
    },
    {
      "cell_type": "code",
      "source": [
        "if (5 > 3):\n",
        "  print(\"Lalala\")"
      ],
      "metadata": {
        "colab": {
          "base_uri": "https://localhost:8080/"
        },
        "id": "1Ht9ot_bGpms",
        "outputId": "40cc7c9d-663f-46b7-fa92-dd3a9a543179"
      },
      "execution_count": null,
      "outputs": [
        {
          "output_type": "stream",
          "name": "stdout",
          "text": [
            "Lalala\n"
          ]
        }
      ]
    },
    {
      "cell_type": "code",
      "source": [
        "a = int(input(\"Podaj liczbę:\"))\n",
        "b = int(input(\"Podaj liczbę:\"))\n",
        "\n",
        "if (a > b):\n",
        "  print(a, \"jest większe od\", b)\n",
        "elif (a < b):\n",
        "  print(b, \"jest większe od\", a)\n",
        "else:\n",
        "  print(a, \"jest równe\", b)"
      ],
      "metadata": {
        "colab": {
          "base_uri": "https://localhost:8080/"
        },
        "id": "O4utb2BOKMQ7",
        "outputId": "c2a4b046-ca17-4e47-e8bc-1b0b7f52890f"
      },
      "execution_count": null,
      "outputs": [
        {
          "output_type": "stream",
          "name": "stdout",
          "text": [
            "Podaj liczbę:4\n",
            "Podaj liczbę:8\n",
            "8 jest większe od 4\n"
          ]
        }
      ]
    },
    {
      "cell_type": "code",
      "source": [
        "wybor = (input(\"Co chcesz zrobic? * - mnożenie, / - dzielenie, + - dodawanie, - odejmowanie\"))\n",
        "a = int(input(\"Pierwsza liczba:\"))\n",
        "b = int(input(\"Pierwsza liczba:\"))\n",
        "\n",
        "if (wybor == \"*\"):\n",
        "  print(a * b)\n",
        "elif (wybor == \"/\"):\n",
        "  if (b == 0):\n",
        "    print(\"Nie dziel przez zero\")\n",
        "  else:\n",
        "    print(a / b)\n",
        "elif (wybor == \"+\"):\n",
        "  print(a + b)\n",
        "elif (wybor == \"-\"):\n",
        "  print(a - b)\n",
        "else:\n",
        "  print(\"Nie da rady\")\n"
      ],
      "metadata": {
        "colab": {
          "base_uri": "https://localhost:8080/"
        },
        "id": "kjj1jF75MPeY",
        "outputId": "d49c51ea-fe6c-439b-b05a-ea9690c24818"
      },
      "execution_count": null,
      "outputs": [
        {
          "output_type": "stream",
          "name": "stdout",
          "text": [
            "Co chcesz zrobic? * - mnożenie, / - dzielenie, + - dodawanie, - odejmowanie/\n",
            "Pierwsza liczba:2\n",
            "Pierwsza liczba:0\n",
            "Nie dziel przez zero\n"
          ]
        }
      ]
    },
    {
      "cell_type": "code",
      "source": [
        "wybor = int(input(\"Wybierz liczbę:\"))\n",
        "\n",
        "if wybor < 0:\n",
        "  print(abs(wybor))\n",
        "elif wybor > 0 or wybor == 0:\n",
        "  print(wybor)"
      ],
      "metadata": {
        "colab": {
          "base_uri": "https://localhost:8080/"
        },
        "id": "67-cuojaGOcb",
        "outputId": "7df6b166-9e6e-4d15-f466-0949cc331ee9"
      },
      "execution_count": null,
      "outputs": [
        {
          "output_type": "stream",
          "name": "stdout",
          "text": [
            "Wybierz liczbę:0\n",
            "0\n"
          ]
        }
      ]
    },
    {
      "cell_type": "code",
      "source": [
        "if 5 < 7:\n",
        "  print(\"first\")\n",
        "  print(\"second\")"
      ],
      "metadata": {
        "colab": {
          "base_uri": "https://localhost:8080/"
        },
        "id": "PwRqrT2uIxz8",
        "outputId": "fc177967-f7a1-4c8d-dc59-7686aaeb6bfd"
      },
      "execution_count": null,
      "outputs": [
        {
          "output_type": "stream",
          "name": "stdout",
          "text": [
            "first\n",
            "second\n"
          ]
        }
      ]
    },
    {
      "cell_type": "code",
      "source": [
        "liczba = 0\n",
        "while liczba < 150:\n",
        "  print(liczba)\n",
        "  liczba += 1\n"
      ],
      "metadata": {
        "id": "gsnzGGm6MJBw"
      },
      "execution_count": null,
      "outputs": []
    },
    {
      "cell_type": "code",
      "source": [
        "wynik = 0\n",
        "\n",
        "i = 0\n",
        "\n",
        "while i < 4:\n",
        "  x = int(input(\"Podaj liczbę:\"))\n",
        "  wynik += x\n",
        "  i += 1\n",
        "\n",
        "print(\"Wynik dodawania to:\", wynik)"
      ],
      "metadata": {
        "colab": {
          "base_uri": "https://localhost:8080/"
        },
        "id": "AVBWVu9JOodm",
        "outputId": "ab103528-6379-4370-8704-7cc275df33c5"
      },
      "execution_count": null,
      "outputs": [
        {
          "output_type": "stream",
          "name": "stdout",
          "text": [
            "Podaj liczbę:1\n",
            "Podaj liczbę:2\n",
            "Podaj liczbę:3\n",
            "Podaj liczbę:4\n",
            "Wynik dodawania to: 10\n"
          ]
        }
      ]
    },
    {
      "cell_type": "code",
      "source": [
        "wybor = int(input(\"Podaj liczbę:\"))\n",
        "parzystosc = wybor % 2\n",
        "if parzystosc == 0:\n",
        "  print(\"parzysta\")\n",
        "else:\n",
        "  print(\"nieparzysta\")\n",
        "\n"
      ],
      "metadata": {
        "id": "fOomThuAbkMx",
        "colab": {
          "base_uri": "https://localhost:8080/"
        },
        "outputId": "da9abe78-06ad-4e15-c22d-9091480315a3"
      },
      "execution_count": null,
      "outputs": [
        {
          "output_type": "stream",
          "name": "stdout",
          "text": [
            "Podaj liczbę:122\n",
            "parzysta\n"
          ]
        }
      ]
    },
    {
      "cell_type": "code",
      "source": [],
      "metadata": {
        "id": "GVVnGDxQcYnp",
        "colab": {
          "base_uri": "https://localhost:8080/"
        },
        "outputId": "55dbaa3f-232f-4d1e-80e7-f0a97f2a54c6"
      },
      "execution_count": null,
      "outputs": [
        {
          "output_type": "execute_result",
          "data": {
            "text/plain": [
              "0"
            ]
          },
          "metadata": {},
          "execution_count": 1
        }
      ]
    },
    {
      "cell_type": "code",
      "source": [
        "wart = int(input(\"Podaj wartość mniejszą od 100 od której chcesz odliczać:\"))\n",
        "\n",
        "while wart < 100:\n",
        "  print(wart)\n",
        "  wart += 1"
      ],
      "metadata": {
        "colab": {
          "base_uri": "https://localhost:8080/"
        },
        "id": "snjIo462wwgQ",
        "outputId": "67facdf4-1c98-4cd4-dee4-f73d653007b8"
      },
      "execution_count": null,
      "outputs": [
        {
          "output_type": "stream",
          "name": "stdout",
          "text": [
            "Podaj wartość mniejszą od 100 od której chcesz odliczać:95\n",
            "95\n",
            "96\n",
            "97\n",
            "98\n",
            "99\n"
          ]
        }
      ]
    },
    {
      "cell_type": "code",
      "source": [
        "wynik = 0\n",
        "\n",
        "for i in range(0, 4):\n",
        "  x = int(input(\"Podaj liczbę:\"))\n",
        "  wynik += x\n",
        "\n",
        "print(\"Wynik dodawania to:\", wynik)"
      ],
      "metadata": {
        "colab": {
          "base_uri": "https://localhost:8080/"
        },
        "id": "HkCiL9AJxkQt",
        "outputId": "71e50a77-0e38-4359-982b-67da74b57e17"
      },
      "execution_count": null,
      "outputs": [
        {
          "output_type": "stream",
          "name": "stdout",
          "text": [
            "Podaj liczbę:1\n",
            "Podaj liczbę:2\n",
            "Podaj liczbę:3\n",
            "Podaj liczbę:4\n",
            "Wynik dodawania to: 10\n"
          ]
        }
      ]
    },
    {
      "cell_type": "code",
      "source": [
        "wynik = 0\n",
        "\n",
        "for i in range(3):\n",
        "  x = int(input(\"Podaj dodatnią liczbę:\"))\n",
        "  if (x > 0):\n",
        "    wynik += x\n",
        "  else:\n",
        "    print(\"Miała być liczba dodatnia\")\n",
        "    continue\n",
        "\n",
        "print(\"Aktualny wynik dodawania to:\", wynik)"
      ],
      "metadata": {
        "colab": {
          "base_uri": "https://localhost:8080/"
        },
        "id": "LNzrDW-jyzHZ",
        "outputId": "d033ce43-ef32-4f72-eb69-f44efccac97b"
      },
      "execution_count": null,
      "outputs": [
        {
          "output_type": "stream",
          "name": "stdout",
          "text": [
            "Podaj dodatnią liczbę:-3\n",
            "Miała być liczba dodatnia\n",
            "Podaj dodatnią liczbę:3\n",
            "Podaj dodatnią liczbę:-4\n",
            "Miała być liczba dodatnia\n",
            "Aktualny wynik dodawania to: 3\n"
          ]
        }
      ]
    },
    {
      "cell_type": "code",
      "source": [
        "wynik = 0\n",
        "i = 0\n",
        "\n",
        "while i < 3:\n",
        "  x = int(input(\"Podaj dodatnią liczbę:\"))\n",
        "  if (x > 0):\n",
        "    wynik += x\n",
        "    i += 1\n",
        "  else:\n",
        "    print(\"Miała być liczba dodatnia\")\n",
        "    continue\n",
        "\n",
        "print(\"Aktualny wynik dodawania to:\", wynik)\n",
        "\n",
        "\n"
      ],
      "metadata": {
        "colab": {
          "base_uri": "https://localhost:8080/"
        },
        "id": "dBV5jqdc0XFx",
        "outputId": "fb2f2855-daac-4e9c-88f2-9ee0355c987b"
      },
      "execution_count": null,
      "outputs": [
        {
          "output_type": "stream",
          "name": "stdout",
          "text": [
            "Podaj dodatnią liczbę:1\n",
            "Podaj dodatnią liczbę:2\n",
            "Podaj dodatnią liczbę:-3\n",
            "Miała być liczba dodatnia\n",
            "Podaj dodatnią liczbę:2\n",
            "Aktualny wynik dodawania to: 5\n"
          ]
        }
      ]
    },
    {
      "cell_type": "code",
      "source": [
        "szukanaLiczba = 50\n",
        "zgadywanaLiczba = 0\n",
        "\n",
        "while zgadywanaLiczba != szukanaLiczba:\n",
        "  zgadywanaLiczba = int(input(\"Podaj szukaną liczbę:\"))\n",
        "\n",
        "  if (zgadywanaLiczba == szukanaLiczba):\n",
        "    print(\"Brawo\")\n",
        "  else:\n",
        "    print(\"Spróbuj jeszcze raz\")\n"
      ],
      "metadata": {
        "colab": {
          "base_uri": "https://localhost:8080/"
        },
        "id": "wwLiSX6NZwt-",
        "outputId": "3a2471f0-9a19-491a-8766-60b6233ea916"
      },
      "execution_count": null,
      "outputs": [
        {
          "output_type": "stream",
          "name": "stdout",
          "text": [
            "Podaj szukaną liczbę:2\n",
            "Spróbuj jeszcze raz\n",
            "Podaj szukaną liczbę:4\n",
            "Spróbuj jeszcze raz\n",
            "Podaj szukaną liczbę:40\n",
            "Spróbuj jeszcze raz\n",
            "Podaj szukaną liczbę:50\n",
            "Brawo\n"
          ]
        }
      ]
    },
    {
      "cell_type": "code",
      "source": [
        "szukanaLiczba = 50\n",
        "zgadywanaLiczba = 0\n",
        "\n",
        "while zgadywanaLiczba != szukanaLiczba:\n",
        "  zgadywanaLiczba = int(input(\"Podaj szukaną liczbę:\"))\n",
        "\n",
        "  if (zgadywanaLiczba > szukanaLiczba):\n",
        "    print(\"za duża\")\n",
        "  elif (zgadywanaLiczba < szukanaLiczba):\n",
        "    print(\"za mała\")\n",
        "  else:\n",
        "    print('BRAWO!')\n"
      ],
      "metadata": {
        "colab": {
          "base_uri": "https://localhost:8080/"
        },
        "id": "I3KomTr0k5mL",
        "outputId": "cbf9f9e2-6958-4256-eff2-724c83f19e22"
      },
      "execution_count": null,
      "outputs": [
        {
          "output_type": "stream",
          "name": "stdout",
          "text": [
            "Podaj szukaną liczbę:1\n",
            "za mała\n",
            "Podaj szukaną liczbę:60\n",
            "za duża\n",
            "Podaj szukaną liczbę:55\n",
            "za duża\n",
            "Podaj szukaną liczbę:50\n",
            "BRAWO!\n"
          ]
        }
      ]
    },
    {
      "cell_type": "code",
      "source": [
        "imiona = ['Nati', 'Emil', 'Aga', 'Klaudia']\n",
        "\n",
        "for imie in imiona:\n",
        "  print(imie[-1])\n",
        "\n",
        "print(imiona[-1])\n",
        "imiona[-1] = \"Wojtek\"\n",
        "print(imiona[-1])\n",
        "print(\"Michał\" in imiona)\n",
        "\n",
        "if (\"Nati\" in imiona):\n",
        "  print(\"Hello Nati\")\n",
        "\n",
        "if (\"Stefan\" not in imiona):\n",
        "  print(\"Nie ma Stefana\")"
      ],
      "metadata": {
        "colab": {
          "base_uri": "https://localhost:8080/"
        },
        "id": "3hKiMoaQlY1m",
        "outputId": "f106d085-4efd-4923-8354-e10014b0c7e1"
      },
      "execution_count": null,
      "outputs": [
        {
          "output_type": "stream",
          "name": "stdout",
          "text": [
            "i\n",
            "l\n",
            "a\n",
            "a\n",
            "Klaudia\n",
            "Wojtek\n",
            "False\n",
            "Hello Nati\n",
            "Nie ma Stefana\n"
          ]
        }
      ]
    },
    {
      "cell_type": "code",
      "source": [
        "imiona = ['Arkadiusz', 'Wiola', \"Antek\"]\n",
        "\n",
        "imie = input()\n",
        "\n",
        "if imie == 'Arkadiusz' or imie == 'Wiola' or imie == 'Antek':\n",
        "  print(\"Masz dostęp\")\n",
        "else:\n",
        "  print(\"Brak dostępu\")\n",
        "\n"
      ],
      "metadata": {
        "colab": {
          "base_uri": "https://localhost:8080/"
        },
        "id": "ieRkvNvJs1yr",
        "outputId": "09a8dcb9-3f40-4be1-839d-84c076e0d105"
      },
      "execution_count": null,
      "outputs": [
        {
          "output_type": "stream",
          "name": "stdout",
          "text": [
            "Stefan\n",
            "Brak dostępu\n"
          ]
        }
      ]
    },
    {
      "cell_type": "code",
      "source": [
        "liczby = [1, 2, 3, 4]\n",
        "print(len(liczby))\n",
        "liczby.append(5)\n",
        "print(liczby)\n",
        "liczby.extend([6, 7, 8])\n",
        "print(liczby)\n",
        "liczby.insert(0, 0)\n",
        "print(liczby)\n",
        "print(liczby.index(4))\n",
        "liczby.sort(reverse = True)\n",
        "print(liczby)\n",
        "liczby.pop()\n",
        "print(liczby)\n",
        "liczby.remove(2)\n",
        "print(liczby)"
      ],
      "metadata": {
        "colab": {
          "base_uri": "https://localhost:8080/"
        },
        "id": "nescmlXBx4bR",
        "outputId": "500466f4-40a3-4814-a67e-e01723f2a1df"
      },
      "execution_count": null,
      "outputs": [
        {
          "output_type": "stream",
          "name": "stdout",
          "text": [
            "4\n",
            "[1, 2, 3, 4, 5]\n",
            "[1, 2, 3, 4, 5, 6, 7, 8]\n",
            "[0, 1, 2, 3, 4, 5, 6, 7, 8]\n",
            "4\n",
            "[8, 7, 6, 5, 4, 3, 2, 1, 0]\n",
            "[8, 7, 6, 5, 4, 3, 2, 1]\n",
            "[8, 7, 6, 5, 4, 3, 1]\n"
          ]
        }
      ]
    },
    {
      "cell_type": "code",
      "source": [
        "kolory = {'a': \"zielony\", 'b': \"czerwony\", 'c': \"niebieski\"}\n",
        "kolory\n",
        "kolory['a'] = 'fioletowy'\n",
        "kolory\n",
        "kolory[\"b\"]\n",
        "kolory.update({\"d\": \"różowy\"})\n",
        "kolory.popitem()"
      ],
      "metadata": {
        "colab": {
          "base_uri": "https://localhost:8080/"
        },
        "id": "_ZOLe0SZykCK",
        "outputId": "ce279f70-ceb1-4e30-888d-c51bf3ba3fe2"
      },
      "execution_count": null,
      "outputs": [
        {
          "output_type": "execute_result",
          "data": {
            "text/plain": [
              "('d', 'różowy')"
            ]
          },
          "metadata": {},
          "execution_count": 7
        }
      ]
    },
    {
      "cell_type": "code",
      "source": [
        "listaGosci = [\n",
        "    (\"Nati\", 29, \"Wrocław\"),\n",
        "    (\"Emil\", 30, \"Wrocław\"),\n",
        "    (\"Aga\", 23, \"Aleksandrów\")\n",
        "]\n",
        "\n",
        "for imie, wiek, miasto in listaGosci:\n",
        "  print(\"Imię to:\", imie)\n",
        "  print(\"Wiek to:\", wiek)\n",
        "  print(\"Miasto:\", miasto)\n",
        "  print(\"\\n\")"
      ],
      "metadata": {
        "colab": {
          "base_uri": "https://localhost:8080/"
        },
        "id": "fkD6prjwl051",
        "outputId": "caa51bfc-4575-41c6-b13b-5e427c10572f"
      },
      "execution_count": null,
      "outputs": [
        {
          "output_type": "stream",
          "name": "stdout",
          "text": [
            "Imię to: Nati\n",
            "Wiek to: 29\n",
            "Miasto: Wrocław\n",
            "\n",
            "\n",
            "Imię to: Emil\n",
            "Wiek to: 30\n",
            "Miasto: Wrocław\n",
            "\n",
            "\n",
            "Imię to: Aga\n",
            "Wiek to: 23\n",
            "Miasto: Aleksandrów\n",
            "\n",
            "\n"
          ]
        }
      ]
    },
    {
      "cell_type": "code",
      "source": [
        "definicje = {}\n",
        "\n",
        "while(True):\n",
        "    print(\"1: Dodaj definicję\")\n",
        "    print(\"2: Znajdź definicję\")\n",
        "    print(\"3: Usuń definicję\")\n",
        "    print(\"4: Zakończ program\")\n",
        "\n",
        "    wybor = input(\"Co chcesz zrobić?\")\n",
        "\n",
        "    if (wybor == \"1\"):\n",
        "        klucz = input(\"Podaj klucz:\")\n",
        "        definicja = input(\"Podaj definicję:\")\n",
        "        definicje[klucz] = definicja\n",
        "        print(\"Definicja dodana pomyślnie\")\n",
        "    elif (wybor == \"2\"):\n",
        "        klucz = input(\"Czego szukasz?\")\n",
        "        if klucz in definicje:\n",
        "            print(definicje[klucz])\n",
        "        else:\n",
        "            print(\"Nie znaleziono klucza\", klucz)\n",
        "    elif (wybor == \"3\"):\n",
        "        klucz = input(\"Co chcesz usunąć?\")\n",
        "        if klucz in definicje:\n",
        "            del definicje[klucz]\n",
        "            print(\"Usunięto definicję o nazwie\", klucz)\n",
        "        else:\n",
        "            print(\"Nie znaleziono definicji o nazwie\", klucz)\n",
        "    elif (wybor == \"4\"):\n",
        "        print(\"No to pa.\")\n",
        "        break\n",
        "    else:\n",
        "      print(\"Podałeś coś z poza zakresu\")\n",
        "\n"
      ],
      "metadata": {
        "colab": {
          "base_uri": "https://localhost:8080/"
        },
        "id": "sjXQ33H8E1ia",
        "outputId": "3a5a3e7a-82da-4a5f-9a7d-eab1d85e3413"
      },
      "execution_count": null,
      "outputs": [
        {
          "output_type": "stream",
          "name": "stdout",
          "text": [
            "1: Dodaj definicję\n",
            "2: Znajdź definicję\n",
            "3: Usuń definicję\n",
            "4: Zakończ program\n",
            "Co chcesz zrobić?1\n",
            "Podaj klucz:lala\n",
            "Podaj definicję:lallalala\n",
            "Definicja dodana pomyślnie\n",
            "1: Dodaj definicję\n",
            "2: Znajdź definicję\n",
            "3: Usuń definicję\n",
            "4: Zakończ program\n",
            "Co chcesz zrobić?2\n",
            "Czego szukasz?lala\n",
            "lallalala\n",
            "1: Dodaj definicję\n",
            "2: Znajdź definicję\n",
            "3: Usuń definicję\n",
            "4: Zakończ program\n",
            "Co chcesz zrobić?3\n",
            "Co chcesz usunąć?lala\n",
            "Usunięto definicję o nazwie lala\n",
            "1: Dodaj definicję\n",
            "2: Znajdź definicję\n",
            "3: Usuń definicję\n",
            "4: Zakończ program\n",
            "Co chcesz zrobić?4\n",
            "No to pa.\n"
          ]
        }
      ]
    },
    {
      "cell_type": "code",
      "source": [
        "liczby = [1, 2, 3, 4, 5, 6]\n",
        "\n",
        "potegiLiczby = [liczba ** 2\n",
        "                for liczba in liczby\n",
        "                ]\n",
        "print(potegiLiczby)\n",
        "\n",
        "pierwiastkiLiczby = [liczba ** (0.5)\n",
        "                      for liczba in liczby\n",
        "                     ]\n",
        "print(pierwiastkiLiczby)\n",
        "\n",
        "potegiLiczby2 = [liczba ** 2\n",
        "                 for liczba in range(20)\n",
        "                 ]\n",
        "print(potegiLiczby2)"
      ],
      "metadata": {
        "colab": {
          "base_uri": "https://localhost:8080/"
        },
        "id": "UrbmJR0MenF2",
        "outputId": "3be1699e-52c2-42fa-e8cd-c033ebcded4e"
      },
      "execution_count": null,
      "outputs": [
        {
          "output_type": "stream",
          "name": "stdout",
          "text": [
            "[1, 4, 9, 16, 25, 36]\n",
            "[1.0, 1.4142135623730951, 1.7320508075688772, 2.0, 2.23606797749979, 2.449489742783178]\n",
            "[0, 1, 4, 9, 16, 25, 36, 49, 64, 81, 100, 121, 144, 169, 196, 225, 256, 289, 324, 361]\n"
          ]
        }
      ]
    },
    {
      "cell_type": "code",
      "source": [
        "import sys\n",
        "\n",
        "evenNumbers = [element\n",
        "               for element in range(4400)\n",
        "               if (element % 2 == 0)\n",
        "              ]\n",
        "\n",
        "evenNumbersGenerator = (element\n",
        "                        for element in range(4400)\n",
        "                        if (element % 2 == 0))\n",
        "\n",
        "print(sys.getsizeof(evenNumbers))\n",
        "print(sys.getsizeof(evenNumbersGenerator))"
      ],
      "metadata": {
        "colab": {
          "base_uri": "https://localhost:8080/"
        },
        "id": "d6cJBAk6B7Y_",
        "outputId": "4ad9749c-2b9b-4283-8426-ade270acd6d0"
      },
      "execution_count": null,
      "outputs": [
        {
          "output_type": "stream",
          "name": "stdout",
          "text": [
            "18232\n",
            "104\n"
          ]
        }
      ]
    },
    {
      "cell_type": "code",
      "source": [
        "names = {\"Natalia\", \"Emil\", \"Agnieszka\", \"Anna\", \"Michał\"}\n",
        "\n",
        "namesLength = {\n",
        "    name : len(name)\n",
        "    for name in names\n",
        "}\n",
        "\n",
        "namesLength"
      ],
      "metadata": {
        "colab": {
          "base_uri": "https://localhost:8080/"
        },
        "id": "DgnYEvUPGS7b",
        "outputId": "407c46dd-4e16-4289-f255-722ba7ac6290"
      },
      "execution_count": null,
      "outputs": [
        {
          "output_type": "execute_result",
          "data": {
            "text/plain": [
              "{'Michał': 6, 'Natalia': 7, 'Anna': 4, 'Agnieszka': 9, 'Emil': 4}"
            ]
          },
          "metadata": {},
          "execution_count": 14
        }
      ]
    },
    {
      "cell_type": "code",
      "source": [
        "numbers = {1, 2, 3, 4, 5, 6}\n",
        "\n",
        "numbersMultiple = {\n",
        "    number : number ** 2\n",
        "    for number in numbers\n",
        "}\n",
        "\n",
        "numbersMultiple"
      ],
      "metadata": {
        "colab": {
          "base_uri": "https://localhost:8080/"
        },
        "id": "0lCk6-ObRhUz",
        "outputId": "8036a4a2-8bb4-49c9-aecf-569dd038f12e"
      },
      "execution_count": null,
      "outputs": [
        {
          "output_type": "execute_result",
          "data": {
            "text/plain": [
              "{1: 1, 2: 4, 3: 9, 4: 16, 5: 25, 6: 36}"
            ]
          },
          "metadata": {},
          "execution_count": 15
        }
      ]
    },
    {
      "cell_type": "code",
      "source": [
        "names = {\"natalia\", \"emil\", \"agnieszka\", \"anna\", \"michał\"}\n",
        "\n",
        "filteredNames = {\n",
        "    name.capitalize()\n",
        "    for name in names\n",
        "    if name[0] != \"n\"\n",
        "}\n",
        "\n",
        "print(filteredNames)"
      ],
      "metadata": {
        "colab": {
          "base_uri": "https://localhost:8080/"
        },
        "id": "-95mXbo9SoQj",
        "outputId": "20f6ddf4-8538-4f1a-ccb5-35dba0947358"
      },
      "execution_count": null,
      "outputs": [
        {
          "output_type": "stream",
          "name": "stdout",
          "text": [
            "{'Anna', 'Michał', 'Agnieszka', 'Emil'}\n"
          ]
        }
      ]
    },
    {
      "cell_type": "code",
      "source": [
        "numbers = (\n",
        "    number\n",
        "    for number in range(2, 471)\n",
        "    if (number % 7 == 0)\n",
        "    if (number % 5 != 0)\n",
        ")\n",
        "\n",
        "for number in numbers:\n",
        "  print(number)\n"
      ],
      "metadata": {
        "id": "2SpEPeT3Utoo"
      },
      "execution_count": null,
      "outputs": []
    },
    {
      "cell_type": "code",
      "source": [
        "def wiadomosc(imie):\n",
        "  print(\"Cześć,\", imie, \"miło Cie widzieć\")\n",
        "\n",
        "wiadomosc(\"Natalio\")"
      ],
      "metadata": {
        "colab": {
          "base_uri": "https://localhost:8080/"
        },
        "id": "jGvJ8z-mZSCH",
        "outputId": "ef572e26-1b6b-4ef9-df04-d9ff6136b6e2"
      },
      "execution_count": null,
      "outputs": [
        {
          "output_type": "stream",
          "name": "stdout",
          "text": [
            "Cześć, Natalio miło Cie widzieć\n"
          ]
        }
      ]
    },
    {
      "cell_type": "code",
      "source": [
        "def pole_prostokata(a, b):\n",
        "  print(a * b)\n",
        "\n",
        "pole_prostokata(2,3)"
      ],
      "metadata": {
        "colab": {
          "base_uri": "https://localhost:8080/"
        },
        "id": "GBaVMuiMgGwh",
        "outputId": "520f6382-6ea8-4113-c84f-bf71ecf30df4"
      },
      "execution_count": null,
      "outputs": [
        {
          "output_type": "stream",
          "name": "stdout",
          "text": [
            "6\n"
          ]
        }
      ]
    },
    {
      "cell_type": "code",
      "source": [
        "def dzielenie(a, b):\n",
        "    if (b == 0):\n",
        "        return\n",
        "    return a / b\n",
        "\n",
        "dzielenie(10,2)"
      ],
      "metadata": {
        "colab": {
          "base_uri": "https://localhost:8080/"
        },
        "id": "dJdxFuuBtAV_",
        "outputId": "ccaba109-3eff-4ae9-be54-fc45bf124a80"
      },
      "execution_count": null,
      "outputs": [
        {
          "output_type": "execute_result",
          "data": {
            "text/plain": [
              "5.0"
            ]
          },
          "metadata": {},
          "execution_count": 28
        }
      ]
    },
    {
      "cell_type": "code",
      "source": [
        "x = [\"apple\", \"banana\", \"cherry\"]\n",
        "print(type(x))"
      ],
      "metadata": {
        "colab": {
          "base_uri": "https://localhost:8080/"
        },
        "id": "KxrmM0hxwOqs",
        "outputId": "445deb81-3618-4bc1-b37f-7c404eb1353d"
      },
      "execution_count": null,
      "outputs": [
        {
          "output_type": "stream",
          "name": "stdout",
          "text": [
            "<class 'list'>\n"
          ]
        }
      ]
    },
    {
      "cell_type": "code",
      "source": [
        "age = 36\n",
        "txt = \"My name is John, and I am {}\"\n",
        "print(txt.format(age))"
      ],
      "metadata": {
        "colab": {
          "base_uri": "https://localhost:8080/"
        },
        "id": "hjEPOb3VeRxd",
        "outputId": "f5772fbc-00ac-43b4-9927-8748cb3ad537"
      },
      "execution_count": null,
      "outputs": [
        {
          "output_type": "stream",
          "name": "stdout",
          "text": [
            "My name is John, and I am 36\n"
          ]
        }
      ]
    },
    {
      "cell_type": "code",
      "source": [
        "add = lambda x, y: x + y\n",
        "\n",
        "result = add(3, 5)\n",
        "print(result)"
      ],
      "metadata": {
        "colab": {
          "base_uri": "https://localhost:8080/"
        },
        "id": "bKQW-QtlrDzD",
        "outputId": "461dbcec-546f-4f31-9844-0f7541cb120c"
      },
      "execution_count": null,
      "outputs": [
        {
          "output_type": "stream",
          "name": "stdout",
          "text": [
            "8\n"
          ]
        }
      ]
    },
    {
      "cell_type": "code",
      "source": [
        "import math\n",
        "\n",
        "def pole_kwadratu(a):\n",
        "  return a * a\n",
        "\n",
        "def pole_prostokata(a, b):\n",
        "  return a * b\n",
        "\n",
        "def pole_trojkata(a, h):\n",
        "  return 0.5 * a * h\n",
        "\n",
        "pole_kwadratu(4)\n",
        "pole_prostokata(3, 5)\n",
        "pole_trojkata(5, 6)"
      ],
      "metadata": {
        "id": "yF-oODBsPtlJ",
        "colab": {
          "base_uri": "https://localhost:8080/"
        },
        "outputId": "9b921ac2-0b00-474a-8e86-be620fd7908a"
      },
      "execution_count": 4,
      "outputs": [
        {
          "output_type": "execute_result",
          "data": {
            "text/plain": [
              "15.0"
            ]
          },
          "metadata": {},
          "execution_count": 4
        }
      ]
    },
    {
      "cell_type": "code",
      "source": [
        "def sum_positives(numbers):\n",
        "  total = 0\n",
        "\n",
        "  for number in numbers:\n",
        "    if number > 0:\n",
        "      total += number\n",
        "  return total\n",
        "\n",
        "numbers = [1, -2, 3, 0, -4, 5]\n",
        "print(sum_positives(numbers))"
      ],
      "metadata": {
        "colab": {
          "base_uri": "https://localhost:8080/"
        },
        "id": "30Fxy-XeUfhq",
        "outputId": "e4c873b6-f98f-4b7e-b768-c37d1d261a0e"
      },
      "execution_count": 5,
      "outputs": [
        {
          "output_type": "stream",
          "name": "stdout",
          "text": [
            "9\n"
          ]
        }
      ]
    },
    {
      "cell_type": "code",
      "source": [
        "def add_definition(definitions, key, definition):\n",
        "  definitions[key] = definition\n",
        "  print(\"Definicja dodana pomyślnie\")\n",
        "\n",
        "def find_definition(definitions, key):\n",
        "  if key in definitions:\n",
        "    print(definitions[key])\n",
        "  else:\n",
        "    print(\"Nie znaleziono klucza\", key)\n",
        "def delete_definition(definitions, key):\n",
        "  if key in definitions:\n",
        "    del definitions[key]\n",
        "    print(\"Usunięto definicję dla\", key)\n",
        "  else:\n",
        "    print(\"Nie znaleziono definicji\", key)\n",
        "\n",
        "definitions = {}\n",
        "\n",
        "while True:\n",
        "    print(\"1: Dodaj definicję\")\n",
        "    print(\"2: Znajdź definicję\")\n",
        "    print(\"3: Usuń definicję\")\n",
        "    print(\"4: Wyjście\")\n",
        "\n",
        "    choice = input(\"Co chcesz zrobić? \")\n",
        "\n",
        "    if (choice == \"1\"):\n",
        "      key = input(\"Wprowadź słowo do zdefiniowania: \")\n",
        "      definition = input(\"Wprowadź definicję: \")\n",
        "      add_definition(definitions, key, definition)\n",
        "    elif (choice == \"2\"):\n",
        "      key = input(\"Czego szukasz?\")\n",
        "      find_definition(definitions, key)\n",
        "    elif (choice == \"3\"):\n",
        "      key = input(\"Którą definicję chcesz usunąć?\")\n",
        "      delete_definition(definitions, key)\n",
        "    elif (choice == \"4\"):\n",
        "      print(\"No to pa!\")\n",
        "      break\n",
        "    else:\n",
        "      print(\"Wprowadziłeś coś poza zakresem\")"
      ],
      "metadata": {
        "colab": {
          "base_uri": "https://localhost:8080/"
        },
        "id": "aSJA6HFvYC71",
        "outputId": "24558d8b-791e-4095-f09f-37762cf3ac15"
      },
      "execution_count": 6,
      "outputs": [
        {
          "output_type": "stream",
          "name": "stdout",
          "text": [
            "1: Dodaj definicję\n",
            "2: Znajdź definicję\n",
            "3: Usuń definicję\n",
            "4: Wyjście\n",
            "Co chcesz zrobić? 1\n",
            "Wprowadź słowo do zdefiniowania: la\n",
            "Wprowadź definicję: lala\n",
            "Definicja dodana pomyślnie\n",
            "1: Dodaj definicję\n",
            "2: Znajdź definicję\n",
            "3: Usuń definicję\n",
            "4: Wyjście\n",
            "Co chcesz zrobić? 2\n",
            "Czego szukasz?la\n",
            "lala\n",
            "1: Dodaj definicję\n",
            "2: Znajdź definicję\n",
            "3: Usuń definicję\n",
            "4: Wyjście\n",
            "Co chcesz zrobić? 3\n",
            "Którą definicję chcesz usunąć?la\n",
            "Usunięto definicję dla la\n",
            "1: Dodaj definicję\n",
            "2: Znajdź definicję\n",
            "3: Usuń definicję\n",
            "4: Wyjście\n",
            "Co chcesz zrobić? 4\n",
            "No to pa!\n"
          ]
        }
      ]
    },
    {
      "cell_type": "code",
      "source": [
        "def sumuj_do(liczba):\n",
        "  suma = 0\n",
        "\n",
        "  for liczba in range(1, liczba + 1):\n",
        "    suma += liczba\n",
        "\n",
        "  return suma\n",
        "\n",
        "print(sumuj_do(25))"
      ],
      "metadata": {
        "colab": {
          "base_uri": "https://localhost:8080/"
        },
        "id": "T7MLqk9RelsX",
        "outputId": "f8faa343-6805-45de-f086-101eb0c11330"
      },
      "execution_count": 13,
      "outputs": [
        {
          "output_type": "stream",
          "name": "stdout",
          "text": [
            "325\n"
          ]
        }
      ]
    },
    {
      "cell_type": "code",
      "source": [
        "def sumuj_do2(liczba):\n",
        "  return sum([liczba for liczba in range(1, liczba + 1)])\n",
        "\n",
        "print(sumuj_do2(25))"
      ],
      "metadata": {
        "colab": {
          "base_uri": "https://localhost:8080/"
        },
        "id": "yGhPZ9gMldoH",
        "outputId": "59805ed7-8bc5-489d-de32-02ce6cf9d319"
      },
      "execution_count": 14,
      "outputs": [
        {
          "output_type": "stream",
          "name": "stdout",
          "text": [
            "325\n"
          ]
        }
      ]
    },
    {
      "cell_type": "code",
      "source": [
        "def function_perfomers(func):\n",
        "  func()\n",
        "\n",
        "def show_message():\n",
        "  print(\"Hello\")\n",
        "\n",
        "function_perfomers(show_message)\n"
      ],
      "metadata": {
        "colab": {
          "base_uri": "https://localhost:8080/"
        },
        "id": "c6j4mNwUoNVf",
        "outputId": "1b6b85ca-2ba5-4c2f-d7ce-e56a09dfc284"
      },
      "execution_count": 1,
      "outputs": [
        {
          "output_type": "stream",
          "name": "stdout",
          "text": [
            "Hello\n"
          ]
        }
      ]
    },
    {
      "cell_type": "code",
      "source": [
        "def greet(name, mess):\n",
        "  print(\"Hej\", name, mess)\n",
        "\n",
        "greet(\"Natalia\", \"Jesteś super\")"
      ],
      "metadata": {
        "colab": {
          "base_uri": "https://localhost:8080/"
        },
        "id": "I9TNgLXMSQ41",
        "outputId": "26ef6c87-e943-4f1f-80c2-9f7a0a7ec344"
      },
      "execution_count": 1,
      "outputs": [
        {
          "output_type": "stream",
          "name": "stdout",
          "text": [
            "Hej Natalia Jesteś super\n"
          ]
        }
      ]
    },
    {
      "cell_type": "code",
      "source": [
        "import time\n",
        "\n",
        "def function_perfomermance(func, *arg, how_many_times = 1):\n",
        "  sum = 0\n",
        "\n",
        "  for i in range(0, how_many_times):\n",
        "    start = time.perf_counter()\n",
        "    func(*arg)\n",
        "    end = time.perf_counter()\n",
        "    sum = sum + (end - start)\n",
        "\n",
        "  return sum\n",
        "\n",
        "setContainer = {i for i in range(1000)}\n",
        "listContainer = [i for i in range(1000)]\n",
        "\n",
        "def is_element_in(what_value, container):\n",
        "  if what_value in container:\n",
        "    return True\n",
        "  else:\n",
        "    return False\n",
        "\n",
        "print(function_perfomermance(is_element_in, 450, setContainer, how_many_times = 5000))"
      ],
      "metadata": {
        "colab": {
          "base_uri": "https://localhost:8080/"
        },
        "id": "4n3zpogxjqYD",
        "outputId": "03f7f660-de15-4bdd-8e0c-63d3fae76fbe"
      },
      "execution_count": 6,
      "outputs": [
        {
          "output_type": "stream",
          "name": "stdout",
          "text": [
            "0.0021743810152656806\n"
          ]
        }
      ]
    },
    {
      "cell_type": "code",
      "source": [
        "def count(*arg):\n",
        "  return sum(arg)\n",
        "\n",
        "print(count(1, 2, 3, 4))"
      ],
      "metadata": {
        "colab": {
          "base_uri": "https://localhost:8080/"
        },
        "id": "bKhpEvYfnmme",
        "outputId": "283deea2-d5d9-4f2d-bbfd-b3312512e22d"
      },
      "execution_count": 8,
      "outputs": [
        {
          "output_type": "stream",
          "name": "stdout",
          "text": [
            "10\n"
          ]
        }
      ]
    },
    {
      "cell_type": "code",
      "source": [
        "def add():\n",
        "    c = 5\n",
        "    return c\n",
        "\n",
        "c = 1\n",
        "print(add())\n",
        "print(c)"
      ],
      "metadata": {
        "colab": {
          "base_uri": "https://localhost:8080/"
        },
        "id": "qJctnJZB-L-Z",
        "outputId": "1c0c1f26-77f3-43a1-aac2-931ff6c7fce2"
      },
      "execution_count": 11,
      "outputs": [
        {
          "output_type": "stream",
          "name": "stdout",
          "text": [
            "5\n",
            "1\n"
          ]
        }
      ]
    },
    {
      "cell_type": "code",
      "source": [
        "def add():\n",
        "    global c\n",
        "    c = c + 4\n",
        "    print(c)\n",
        "\n",
        "c = 1\n",
        "print(c)\n",
        "add()\n",
        "\n"
      ],
      "metadata": {
        "colab": {
          "base_uri": "https://localhost:8080/"
        },
        "id": "LAk1YfP2Oz10",
        "outputId": "0d81960f-9185-475c-cc14-f52b9b666eac"
      },
      "execution_count": 14,
      "outputs": [
        {
          "output_type": "stream",
          "name": "stdout",
          "text": [
            "1\n",
            "5\n"
          ]
        }
      ]
    },
    {
      "cell_type": "code",
      "source": [
        "a = 430000\n",
        "print(a.bit_length())"
      ],
      "metadata": {
        "colab": {
          "base_uri": "https://localhost:8080/"
        },
        "id": "lED0eEfzPVtF",
        "outputId": "a1938468-d10c-4f75-bc9d-c429cfc4885a"
      },
      "execution_count": 20,
      "outputs": [
        {
          "output_type": "stream",
          "name": "stdout",
          "text": [
            "19\n"
          ]
        }
      ]
    },
    {
      "cell_type": "code",
      "source": [
        "listSample = [1, 2, 4, 6]\n",
        "listSample2 = listSample\n",
        "listSample2.append(5)\n",
        "print(listSample)\n",
        "print(listSample2)"
      ],
      "metadata": {
        "colab": {
          "base_uri": "https://localhost:8080/"
        },
        "id": "9Kf-g2nkRjxj",
        "outputId": "ce28e0ee-5da0-449d-882d-0743f27f9c57"
      },
      "execution_count": 23,
      "outputs": [
        {
          "output_type": "stream",
          "name": "stdout",
          "text": [
            "[1, 2, 4, 6, 5]\n",
            "[1, 2, 4, 6, 5]\n"
          ]
        }
      ]
    },
    {
      "cell_type": "code",
      "source": [
        "a = 4\n",
        "b = a\n",
        "b = 7\n",
        "print(a)\n",
        "print(b)"
      ],
      "metadata": {
        "colab": {
          "base_uri": "https://localhost:8080/"
        },
        "id": "BttJckBQSlhb",
        "outputId": "c2711a26-4e8c-41ec-c2a5-143c423c5380"
      },
      "execution_count": 24,
      "outputs": [
        {
          "output_type": "stream",
          "name": "stdout",
          "text": [
            "4\n",
            "7\n"
          ]
        }
      ]
    },
    {
      "cell_type": "code",
      "source": [
        "def get_square(num):\n",
        "  return num * num\n",
        "\n",
        "for i in [1, 2, 3]:\n",
        "  result = get_square(i)\n",
        "\n",
        "print(\"Square of\", i, \"is:\", result)\n",
        "\n"
      ],
      "metadata": {
        "colab": {
          "base_uri": "https://localhost:8080/"
        },
        "id": "hTZaJN8WTPKl",
        "outputId": "dd4e1cde-6441-4992-e1aa-34abe5bb0341"
      },
      "execution_count": 6,
      "outputs": [
        {
          "output_type": "stream",
          "name": "stdout",
          "text": [
            "Square of 3 is: 9\n"
          ]
        }
      ]
    },
    {
      "cell_type": "code",
      "source": [
        "def double(num):\n",
        "  return num * 2\n",
        "\n",
        "for i in range(1, 5):\n",
        "  result = double(i)\n",
        "\n",
        "print(\"The result of,\", i, \"is:\", result)"
      ],
      "metadata": {
        "colab": {
          "base_uri": "https://localhost:8080/"
        },
        "id": "r9KEMf2Zz-8s",
        "outputId": "ed3a42d2-ab7c-49c7-f4ad-c0054d292330"
      },
      "execution_count": 5,
      "outputs": [
        {
          "output_type": "stream",
          "name": "stdout",
          "text": [
            "The result of, 4 is: 8\n"
          ]
        }
      ]
    },
    {
      "cell_type": "code",
      "source": [
        "numbers = [5, 2, 8, 12, 3, 9, 6, 10]\n",
        "\n",
        "def calculated_median(numbers):\n",
        "  sorted_numbers = sorted(numbers)\n",
        "  n = len(sorted_numbers)\n",
        "\n",
        "  if (n % 2 == 1):\n",
        "    return sorted_numbers[n//2]\n",
        "  else:\n",
        "    mid1 = sorted_numbers[((n - 1) // 2)]\n",
        "    mid2 = sorted_numbers[n // 2]\n",
        "    return (mid1 + mid2) // 2\n",
        "\n",
        "median = calculated_median(numbers)\n",
        "print(f\"Mediana wynosi: {median}\")"
      ],
      "metadata": {
        "colab": {
          "base_uri": "https://localhost:8080/"
        },
        "id": "eB22cqBL0dfT",
        "outputId": "67b0ebc1-f0c3-4aa0-e5d5-304faa8b7398"
      },
      "execution_count": 11,
      "outputs": [
        {
          "output_type": "stream",
          "name": "stdout",
          "text": [
            "Mediana wynosi: 7\n"
          ]
        }
      ]
    },
    {
      "cell_type": "code",
      "source": [
        "def find_palindromes(words):\n",
        "  palindromes = []\n",
        "  for word in words:\n",
        "    if word == word[:: -1]:\n",
        "      palindromes.append(word)\n",
        "  return palindromes\n",
        "\n",
        "word_list = [\"radar\", \"python\", \"level\", \"hello\", \"deified\"]\n",
        "palindrome_list = find_palindromes(word_list)\n",
        "\n",
        "print(\"Palindromy:\")\n",
        "\n",
        "for word in palindrome_list:\n",
        "  print(word)"
      ],
      "metadata": {
        "colab": {
          "base_uri": "https://localhost:8080/"
        },
        "id": "Tm60I8LC4xj3",
        "outputId": "1f571260-17e7-44db-cf68-a6f15faaf084"
      },
      "execution_count": 12,
      "outputs": [
        {
          "output_type": "stream",
          "name": "stdout",
          "text": [
            "Palindromy:\n",
            "radar\n",
            "level\n",
            "deified\n"
          ]
        }
      ]
    },
    {
      "cell_type": "code",
      "source": [
        "def factorial(n):\n",
        "  if n == 0 or n == 1:\n",
        "    return 1\n",
        "  else:\n",
        "    return n * factorial(n - 1)\n",
        "\n",
        "number = 5\n",
        "result = factorial(number)\n",
        "\n",
        "print(f\"Silnia liczby {number} to {result}\")"
      ],
      "metadata": {
        "colab": {
          "base_uri": "https://localhost:8080/"
        },
        "id": "y8AZ6dKJ-BlR",
        "outputId": "3ca5e857-1329-4525-fed5-1138b4bec448"
      },
      "execution_count": 13,
      "outputs": [
        {
          "output_type": "stream",
          "name": "stdout",
          "text": [
            "Silnia liczby 5 to 120\n"
          ]
        }
      ]
    },
    {
      "cell_type": "code",
      "source": [
        "def factorial_list(numbers):\n",
        "    def factorial(n):\n",
        "      if n == 0 or n == 1:\n",
        "        return 1\n",
        "      else:\n",
        "        return n * factorial(n - 1)\n",
        "\n",
        "    factorial_result = [factorial(num) for num in numbers]\n",
        "    return factorial_result\n",
        "\n",
        "number_list = [3, 5, 7]\n",
        "results = factorial_list(number_list)\n",
        "print(f\"Silnie dla każdego elementu w liście {number_list}: {results}\")\n"
      ],
      "metadata": {
        "colab": {
          "base_uri": "https://localhost:8080/"
        },
        "id": "z3AhXzlgBHe5",
        "outputId": "584dbb05-bc1d-4b16-e12a-8f29a2481925"
      },
      "execution_count": 14,
      "outputs": [
        {
          "output_type": "stream",
          "name": "stdout",
          "text": [
            "Silnie dla każdego elementu w liście [3, 5, 7]: [6, 120, 5040]\n"
          ]
        }
      ]
    },
    {
      "cell_type": "code",
      "source": [
        "def find_primes(limit):\n",
        "  primes = []\n",
        "\n",
        "  for num in range(2, limit + 1):\n",
        "      is_prime = True\n",
        "      for i in range(2, int(num ** 0.5) + 1):\n",
        "        if num % i == 0:\n",
        "          is_prime = False\n",
        "          break\n",
        "      if is_prime:\n",
        "          primes.append(num)\n",
        "  return primes\n",
        "\n",
        "\n",
        "upper_limit = 50\n",
        "prime_numbers = find_primes(upper_limit)\n",
        "print(f\"Liczby pierwsze od 2 do {upper_limit}: {prime_numbers}\")\n"
      ],
      "metadata": {
        "colab": {
          "base_uri": "https://localhost:8080/"
        },
        "id": "eCYLTMYODVyS",
        "outputId": "0912e64a-56e4-4c67-f315-0b3e301c5307"
      },
      "execution_count": 19,
      "outputs": [
        {
          "output_type": "stream",
          "name": "stdout",
          "text": [
            "Liczby pierwsze od 2 do 50: [2, 3, 5, 7, 11, 13, 17, 19, 23, 29, 31, 37, 41, 43, 47]\n"
          ]
        }
      ]
    },
    {
      "cell_type": "code",
      "source": [],
      "metadata": {
        "id": "xcSgA0tjOcxK"
      },
      "execution_count": null,
      "outputs": []
    }
  ]
}