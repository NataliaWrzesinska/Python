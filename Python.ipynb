{
  "nbformat": 4,
  "nbformat_minor": 0,
  "metadata": {
    "colab": {
      "provenance": [],
      "authorship_tag": "ABX9TyOMkHneDCCDRAuhGwO4vuUh",
      "include_colab_link": true
    },
    "kernelspec": {
      "name": "python3",
      "display_name": "Python 3"
    },
    "language_info": {
      "name": "python"
    }
  },
  "cells": [
    {
      "cell_type": "markdown",
      "metadata": {
        "id": "view-in-github",
        "colab_type": "text"
      },
      "source": [
        "<a href=\"https://colab.research.google.com/github/NataliaWrzesinska/Python/blob/main/Python.ipynb\" target=\"_parent\"><img src=\"https://colab.research.google.com/assets/colab-badge.svg\" alt=\"Open In Colab\"/></a>"
      ]
    },
    {
      "cell_type": "code",
      "execution_count": null,
      "metadata": {
        "colab": {
          "base_uri": "https://localhost:8080/"
        },
        "id": "MrU-BeBwG2W-",
        "outputId": "8409e7e8-ab8e-426d-e62c-58fe857423ba"
      },
      "outputs": [
        {
          "output_type": "stream",
          "name": "stdout",
          "text": [
            "2\n"
          ]
        }
      ],
      "source": [
        "x = 2\n",
        "print(x)"
      ]
    },
    {
      "cell_type": "code",
      "source": [
        "# Komentarz"
      ],
      "metadata": {
        "id": "8lEI2b_uG6xX"
      },
      "execution_count": null,
      "outputs": []
    },
    {
      "cell_type": "code",
      "source": [
        "\"\"\"\n",
        "Komentarz\n",
        "wielolinijkowy\n",
        "\n",
        "\"\"\""
      ],
      "metadata": {
        "colab": {
          "base_uri": "https://localhost:8080/",
          "height": 35
        },
        "id": "NPYfuA_eHepW",
        "outputId": "9c2d715a-42e9-4305-d1bc-33b0b8885cde"
      },
      "execution_count": null,
      "outputs": [
        {
          "output_type": "execute_result",
          "data": {
            "text/plain": [
              "'\\nKomentarz\\nwielolinijkowy\\n\\n'"
            ],
            "application/vnd.google.colaboratory.intrinsic+json": {
              "type": "string"
            }
          },
          "metadata": {},
          "execution_count": 3
        }
      ]
    },
    {
      "cell_type": "code",
      "source": [
        "a = 5\n",
        "type(a)"
      ],
      "metadata": {
        "colab": {
          "base_uri": "https://localhost:8080/"
        },
        "id": "Btuk9XjsH286",
        "outputId": "95f6a8da-4425-4e7a-c1bf-8323631a5a70"
      },
      "execution_count": null,
      "outputs": [
        {
          "output_type": "execute_result",
          "data": {
            "text/plain": [
              "int"
            ]
          },
          "metadata": {},
          "execution_count": 8
        }
      ]
    },
    {
      "cell_type": "code",
      "source": [
        "b = 3.4\n",
        "type(b)"
      ],
      "metadata": {
        "colab": {
          "base_uri": "https://localhost:8080/"
        },
        "id": "a25YSJRxIpet",
        "outputId": "28b9ef4a-23e2-4b45-bde1-597c825350d2"
      },
      "execution_count": null,
      "outputs": [
        {
          "output_type": "execute_result",
          "data": {
            "text/plain": [
              "float"
            ]
          },
          "metadata": {},
          "execution_count": 9
        }
      ]
    },
    {
      "cell_type": "code",
      "source": [
        "imie = 'Natalia'\n",
        "type(imie)"
      ],
      "metadata": {
        "colab": {
          "base_uri": "https://localhost:8080/"
        },
        "id": "8WcqCG9kJNU0",
        "outputId": "4f8595f6-b841-4115-f971-cd1374280557"
      },
      "execution_count": null,
      "outputs": [
        {
          "output_type": "execute_result",
          "data": {
            "text/plain": [
              "str"
            ]
          },
          "metadata": {},
          "execution_count": 10
        }
      ]
    },
    {
      "cell_type": "code",
      "source": [
        "czyDuzy = True\n",
        "type(bool)"
      ],
      "metadata": {
        "colab": {
          "base_uri": "https://localhost:8080/"
        },
        "id": "jNPwvy8qJS9B",
        "outputId": "6a9478ea-e9ab-4886-a719-b537e676bd75"
      },
      "execution_count": null,
      "outputs": [
        {
          "output_type": "execute_result",
          "data": {
            "text/plain": [
              "bool"
            ]
          },
          "metadata": {},
          "execution_count": 2
        }
      ]
    },
    {
      "cell_type": "code",
      "source": [
        "2**3"
      ],
      "metadata": {
        "colab": {
          "base_uri": "https://localhost:8080/"
        },
        "id": "mZdWWb8Qe24R",
        "outputId": "a4372c75-8bc0-4278-89fb-4d96cb66c26e"
      },
      "execution_count": null,
      "outputs": [
        {
          "output_type": "execute_result",
          "data": {
            "text/plain": [
              "8"
            ]
          },
          "metadata": {},
          "execution_count": 3
        }
      ]
    },
    {
      "cell_type": "code",
      "source": [
        "9//4"
      ],
      "metadata": {
        "colab": {
          "base_uri": "https://localhost:8080/"
        },
        "id": "KKKv4BzAjxZ7",
        "outputId": "2bc5c665-ceaa-4d82-f3a1-53db9d73c514"
      },
      "execution_count": null,
      "outputs": [
        {
          "output_type": "execute_result",
          "data": {
            "text/plain": [
              "2"
            ]
          },
          "metadata": {},
          "execution_count": 4
        }
      ]
    },
    {
      "cell_type": "code",
      "source": [
        "VAT = 23\n",
        "cenaNettoJava = 10\n",
        "cenaNettoAjax = 20\n",
        "obliczonyVAT = (1 + VAT/100)\n",
        "cenaBruttoJava = cenaNettoJava * obliczonyVAT\n",
        "print(cenaBruttoJava)"
      ],
      "metadata": {
        "colab": {
          "base_uri": "https://localhost:8080/"
        },
        "id": "uCHg4Xqgj73M",
        "outputId": "e03f589a-9add-4407-9ab1-0af43a9b1392"
      },
      "execution_count": null,
      "outputs": [
        {
          "output_type": "stream",
          "name": "stdout",
          "text": [
            "12.3\n"
          ]
        }
      ]
    },
    {
      "cell_type": "code",
      "source": [
        "cenaBruttoAjax = cenaNettoAjax * obliczonyVAT\n",
        "print(cenaBruttoAjax)"
      ],
      "metadata": {
        "colab": {
          "base_uri": "https://localhost:8080/"
        },
        "id": "6hi5SvcGlKK6",
        "outputId": "c77cd875-297e-442a-b414-d261ad81fe99"
      },
      "execution_count": null,
      "outputs": [
        {
          "output_type": "stream",
          "name": "stdout",
          "text": [
            "24.6\n"
          ]
        }
      ]
    },
    {
      "cell_type": "code",
      "source": [
        "x = 5\n",
        "x = x + 3\n",
        "print(x)"
      ],
      "metadata": {
        "colab": {
          "base_uri": "https://localhost:8080/"
        },
        "id": "juUt9QEUlZso",
        "outputId": "07937690-91f5-4c06-c5f3-972479a96b17"
      },
      "execution_count": null,
      "outputs": [
        {
          "output_type": "stream",
          "name": "stdout",
          "text": [
            "8\n"
          ]
        }
      ]
    },
    {
      "cell_type": "code",
      "source": [
        "imie = 'Natalia'\n",
        "nazwisko = 'Wrzesinska'\n",
        "imieInazwisko = imie + ' ' + nazwisko\n",
        "print(imieInazwisko)"
      ],
      "metadata": {
        "colab": {
          "base_uri": "https://localhost:8080/"
        },
        "id": "swtn-CaerK-I",
        "outputId": "665f90b0-51a3-4888-d815-3d0e10d0433b"
      },
      "execution_count": null,
      "outputs": [
        {
          "output_type": "stream",
          "name": "stdout",
          "text": [
            "Natalia Wrzesinska\n"
          ]
        }
      ]
    },
    {
      "cell_type": "code",
      "source": [
        "dlugiKomentarz = \"\"\"Nanan\n",
        "nanaaaa\n",
        "loa \"\"\"\n",
        "print(dlugiKomentarz)"
      ],
      "metadata": {
        "colab": {
          "base_uri": "https://localhost:8080/"
        },
        "id": "3qBg_RFDsFlK",
        "outputId": "58ff122a-bce4-4060-9260-61bf7588bd93"
      },
      "execution_count": null,
      "outputs": [
        {
          "output_type": "stream",
          "name": "stdout",
          "text": [
            "Nanan\n",
            "nanaaaa\n",
            "loa \n"
          ]
        }
      ]
    },
    {
      "cell_type": "code",
      "source": [
        "imie = 'Emil'\n",
        "print(imie[-1])"
      ],
      "metadata": {
        "colab": {
          "base_uri": "https://localhost:8080/"
        },
        "id": "7UHvdlaGsbsV",
        "outputId": "155cf87d-c218-41a2-a975-b2d3b39b4d82"
      },
      "execution_count": null,
      "outputs": [
        {
          "output_type": "stream",
          "name": "stdout",
          "text": [
            "l\n"
          ]
        }
      ]
    },
    {
      "cell_type": "code",
      "source": [
        "print(imie[1:3])"
      ],
      "metadata": {
        "colab": {
          "base_uri": "https://localhost:8080/"
        },
        "id": "rShfodP7sxaK",
        "outputId": "c03a098d-77c0-4cd5-9608-47384b76ee3e"
      },
      "execution_count": null,
      "outputs": [
        {
          "output_type": "stream",
          "name": "stdout",
          "text": [
            "mi\n"
          ]
        }
      ]
    },
    {
      "cell_type": "code",
      "source": [
        "abs(-2)"
      ],
      "metadata": {
        "id": "DSrh1h4BtT-M",
        "colab": {
          "base_uri": "https://localhost:8080/"
        },
        "outputId": "82b2f20e-5f69-41d7-9860-6df4956c7606"
      },
      "execution_count": 1,
      "outputs": [
        {
          "output_type": "execute_result",
          "data": {
            "text/plain": [
              "2"
            ]
          },
          "metadata": {},
          "execution_count": 1
        }
      ]
    },
    {
      "cell_type": "code",
      "source": [
        "import math"
      ],
      "metadata": {
        "id": "Lc6YDpLpw31H"
      },
      "execution_count": 2,
      "outputs": []
    },
    {
      "cell_type": "code",
      "source": [
        "math.sqrt(4)"
      ],
      "metadata": {
        "colab": {
          "base_uri": "https://localhost:8080/"
        },
        "id": "MA4VfIltxgV1",
        "outputId": "4cbe812a-f40f-4ecb-c26d-c03913e4b98c"
      },
      "execution_count": 3,
      "outputs": [
        {
          "output_type": "execute_result",
          "data": {
            "text/plain": [
              "2.0"
            ]
          },
          "metadata": {},
          "execution_count": 3
        }
      ]
    },
    {
      "cell_type": "code",
      "source": [
        "from math import sqrt"
      ],
      "metadata": {
        "id": "6FuwolwTxwQc"
      },
      "execution_count": 4,
      "outputs": []
    },
    {
      "cell_type": "code",
      "source": [
        "sqrt(4)"
      ],
      "metadata": {
        "colab": {
          "base_uri": "https://localhost:8080/"
        },
        "id": "YcYlwSauyUfv",
        "outputId": "ec519896-2fea-4f95-d4ca-dea27ad6b3eb"
      },
      "execution_count": 5,
      "outputs": [
        {
          "output_type": "execute_result",
          "data": {
            "text/plain": [
              "2.0"
            ]
          },
          "metadata": {},
          "execution_count": 5
        }
      ]
    },
    {
      "cell_type": "code",
      "source": [
        "from math import *"
      ],
      "metadata": {
        "id": "UovbBYatyVzK"
      },
      "execution_count": 7,
      "outputs": []
    },
    {
      "cell_type": "code",
      "source": [
        "ceil(4.2)"
      ],
      "metadata": {
        "colab": {
          "base_uri": "https://localhost:8080/"
        },
        "id": "lFSBqXFGzA2q",
        "outputId": "6c738db9-7108-4827-9a6b-fdf80856c41b"
      },
      "execution_count": 8,
      "outputs": [
        {
          "output_type": "execute_result",
          "data": {
            "text/plain": [
              "5"
            ]
          },
          "metadata": {},
          "execution_count": 8
        }
      ]
    },
    {
      "cell_type": "code",
      "source": [
        "help(ceil)"
      ],
      "metadata": {
        "colab": {
          "base_uri": "https://localhost:8080/"
        },
        "id": "585ZJ557zHnW",
        "outputId": "0a5d83ac-2d18-463c-87d2-941d4bc15cc6"
      },
      "execution_count": 9,
      "outputs": [
        {
          "output_type": "stream",
          "name": "stdout",
          "text": [
            "Help on built-in function ceil in module math:\n",
            "\n",
            "ceil(x, /)\n",
            "    Return the ceiling of x as an Integral.\n",
            "    \n",
            "    This is the smallest integer >= x.\n",
            "\n"
          ]
        }
      ]
    },
    {
      "cell_type": "code",
      "source": [
        "imie = 'natalia'"
      ],
      "metadata": {
        "id": "9KtTBnXpzSIQ"
      },
      "execution_count": 10,
      "outputs": []
    },
    {
      "cell_type": "code",
      "source": [
        "print(imie.capitalize())"
      ],
      "metadata": {
        "colab": {
          "base_uri": "https://localhost:8080/"
        },
        "id": "HpQHNIbV0f8w",
        "outputId": "6ce44ca1-8c0f-4821-de57-5e3b1b680c7f"
      },
      "execution_count": 12,
      "outputs": [
        {
          "output_type": "stream",
          "name": "stdout",
          "text": [
            "Natalia\n"
          ]
        }
      ]
    },
    {
      "cell_type": "code",
      "source": [
        "imie = 'naTAlia'"
      ],
      "metadata": {
        "id": "BYBJR30n0ld3"
      },
      "execution_count": 14,
      "outputs": []
    },
    {
      "cell_type": "code",
      "source": [
        "print(imie.lower())"
      ],
      "metadata": {
        "colab": {
          "base_uri": "https://localhost:8080/"
        },
        "id": "xMSB0sjD0y2T",
        "outputId": "12a648e5-7978-466d-c67b-fa2f8f9a6e7e"
      },
      "execution_count": 17,
      "outputs": [
        {
          "output_type": "stream",
          "name": "stdout",
          "text": [
            "natalia\n"
          ]
        }
      ]
    },
    {
      "cell_type": "code",
      "source": [
        "print(imie)"
      ],
      "metadata": {
        "colab": {
          "base_uri": "https://localhost:8080/"
        },
        "id": "jtrYrF_t05o4",
        "outputId": "d811c8fe-8d0b-48d3-a188-dbc4463f3c1e"
      },
      "execution_count": 16,
      "outputs": [
        {
          "output_type": "stream",
          "name": "stdout",
          "text": [
            "naTAlia\n"
          ]
        }
      ]
    },
    {
      "cell_type": "code",
      "source": [
        "a = int(input())\n",
        "b = int(input())\n",
        "print('Wynik to:', a+b)\n"
      ],
      "metadata": {
        "colab": {
          "base_uri": "https://localhost:8080/"
        },
        "id": "U4seyISG1FJ4",
        "outputId": "1055eed8-2275-4462-cfc6-1f5a3b845038"
      },
      "execution_count": 5,
      "outputs": [
        {
          "output_type": "stream",
          "name": "stdout",
          "text": [
            "4\n",
            "5\n",
            "Wynik to: 9\n"
          ]
        }
      ]
    },
    {
      "cell_type": "code",
      "source": [
        "imie = input(\"Podaj imię:\")\n",
        "wiek = int(input(\"Podaj wiek:\"))\n",
        "kolor = input(\"Podaj swój ulubiony kolor:\")\n",
        "print(\"Hej,\", imie, \"Twój ulubiony kolor to:\", kolor)\n",
        "print(\"Masz\", wiek, \"lat.\")\n",
        "print(\"Za rok będziesz miała\", wiek + 1, \"lat.\")"
      ],
      "metadata": {
        "colab": {
          "base_uri": "https://localhost:8080/"
        },
        "id": "uFZnJ79-A7wN",
        "outputId": "3ee508a6-4352-4d64-b074-57ed20b838f9"
      },
      "execution_count": 10,
      "outputs": [
        {
          "output_type": "stream",
          "name": "stdout",
          "text": [
            "Podaj imię:Nati\n",
            "Podaj wiek:29\n",
            "Podaj swój ulubiony kolor:różowy\n",
            "Hej, Nati Twój ulubiony kolor to: różowy\n",
            "Masz 29 lat.\n",
            "Za rok będziesz miała 30 lat.\n"
          ]
        }
      ]
    },
    {
      "cell_type": "code",
      "source": [
        "5 > 4"
      ],
      "metadata": {
        "colab": {
          "base_uri": "https://localhost:8080/"
        },
        "id": "Ra7gNf2hDvOG",
        "outputId": "6d2dac81-37c8-4ee2-eaef-7fd156522981"
      },
      "execution_count": 11,
      "outputs": [
        {
          "output_type": "execute_result",
          "data": {
            "text/plain": [
              "True"
            ]
          },
          "metadata": {},
          "execution_count": 11
        }
      ]
    },
    {
      "cell_type": "code",
      "source": [
        "3 > 3"
      ],
      "metadata": {
        "colab": {
          "base_uri": "https://localhost:8080/"
        },
        "id": "jTEsJXKjGTgN",
        "outputId": "78362197-daf6-469f-badb-34f91e5e8a36"
      },
      "execution_count": 13,
      "outputs": [
        {
          "output_type": "execute_result",
          "data": {
            "text/plain": [
              "False"
            ]
          },
          "metadata": {},
          "execution_count": 13
        }
      ]
    },
    {
      "cell_type": "code",
      "source": [
        "5 >= -6"
      ],
      "metadata": {
        "colab": {
          "base_uri": "https://localhost:8080/"
        },
        "id": "8I_KH3_uGVE0",
        "outputId": "8fbba667-dd56-4c32-9161-17eb1d5e1ea2"
      },
      "execution_count": 14,
      "outputs": [
        {
          "output_type": "execute_result",
          "data": {
            "text/plain": [
              "True"
            ]
          },
          "metadata": {},
          "execution_count": 14
        }
      ]
    },
    {
      "cell_type": "code",
      "source": [
        "a = 5"
      ],
      "metadata": {
        "id": "PPpxqVBhGa9w"
      },
      "execution_count": 15,
      "outputs": []
    },
    {
      "cell_type": "code",
      "source": [
        "a == 5"
      ],
      "metadata": {
        "colab": {
          "base_uri": "https://localhost:8080/"
        },
        "id": "13Gm6MOBGnA4",
        "outputId": "0c825cbf-3299-42b8-977e-63a4c432d34b"
      },
      "execution_count": 16,
      "outputs": [
        {
          "output_type": "execute_result",
          "data": {
            "text/plain": [
              "True"
            ]
          },
          "metadata": {},
          "execution_count": 16
        }
      ]
    },
    {
      "cell_type": "code",
      "source": [
        "if (5 > 3):\n",
        "  print(\"Lalala\")"
      ],
      "metadata": {
        "colab": {
          "base_uri": "https://localhost:8080/"
        },
        "id": "1Ht9ot_bGpms",
        "outputId": "40cc7c9d-663f-46b7-fa92-dd3a9a543179"
      },
      "execution_count": 17,
      "outputs": [
        {
          "output_type": "stream",
          "name": "stdout",
          "text": [
            "Lalala\n"
          ]
        }
      ]
    },
    {
      "cell_type": "code",
      "source": [
        "a = int(input(\"Podaj liczbę:\"))\n",
        "b = int(input(\"Podaj liczbę:\"))\n",
        "\n",
        "if (a > b):\n",
        "  print(a, \"jest większe od\", b)\n",
        "elif (a < b):\n",
        "  print(b, \"jest większe od\", a)\n",
        "else:\n",
        "  print(a, \"jest równe\", b)"
      ],
      "metadata": {
        "colab": {
          "base_uri": "https://localhost:8080/"
        },
        "id": "O4utb2BOKMQ7",
        "outputId": "c2a4b046-ca17-4e47-e8bc-1b0b7f52890f"
      },
      "execution_count": 18,
      "outputs": [
        {
          "output_type": "stream",
          "name": "stdout",
          "text": [
            "Podaj liczbę:4\n",
            "Podaj liczbę:8\n",
            "8 jest większe od 4\n"
          ]
        }
      ]
    },
    {
      "cell_type": "code",
      "source": [
        "wybor = (input(\"Co chcesz zrobic? * - mnożenie, / - dzielenie, + - dodawanie, - odejmowanie\"))\n",
        "a = int(input(\"Pierwsza liczba:\"))\n",
        "b = int(input(\"Pierwsza liczba:\"))\n",
        "\n",
        "if (wybor == \"*\"):\n",
        "  print(a * b)\n",
        "elif (wybor == \"/\"):\n",
        "  if (b == 0):\n",
        "    print(\"Nie dziel przez zero\")\n",
        "  else:\n",
        "    print(a / b)\n",
        "elif (wybor == \"+\"):\n",
        "  print(a + b)\n",
        "elif (wybor == \"-\"):\n",
        "  print(a - b)\n",
        "else:\n",
        "  print(\"Nie da rady\")\n"
      ],
      "metadata": {
        "colab": {
          "base_uri": "https://localhost:8080/"
        },
        "id": "kjj1jF75MPeY",
        "outputId": "d49c51ea-fe6c-439b-b05a-ea9690c24818"
      },
      "execution_count": 7,
      "outputs": [
        {
          "output_type": "stream",
          "name": "stdout",
          "text": [
            "Co chcesz zrobic? * - mnożenie, / - dzielenie, + - dodawanie, - odejmowanie/\n",
            "Pierwsza liczba:2\n",
            "Pierwsza liczba:0\n",
            "Nie dziel przez zero\n"
          ]
        }
      ]
    },
    {
      "cell_type": "code",
      "source": [
        "wybor = int(input(\"Wybierz liczbę:\"))\n",
        "\n",
        "if wybor < 0:\n",
        "  print(abs(wybor))\n",
        "elif wybor > 0 or wybor == 0:\n",
        "  print(wybor)"
      ],
      "metadata": {
        "colab": {
          "base_uri": "https://localhost:8080/"
        },
        "id": "67-cuojaGOcb",
        "outputId": "7df6b166-9e6e-4d15-f466-0949cc331ee9"
      },
      "execution_count": 10,
      "outputs": [
        {
          "output_type": "stream",
          "name": "stdout",
          "text": [
            "Wybierz liczbę:0\n",
            "0\n"
          ]
        }
      ]
    },
    {
      "cell_type": "code",
      "source": [],
      "metadata": {
        "id": "PwRqrT2uIxz8"
      },
      "execution_count": null,
      "outputs": []
    }
  ]
}